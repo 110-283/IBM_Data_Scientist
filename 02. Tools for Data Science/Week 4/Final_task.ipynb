{
 "cells": [
  {
   "cell_type": "markdown",
   "id": "ce36a41b-f57f-44f6-bfde-c86e274c5555",
   "metadata": {},
   "source": [
    "# My Jupyter Notebook on IBM Watson Studio"
   ]
  },
  {
   "cell_type": "markdown",
   "id": "34bf75f2-3a0a-4603-9c8d-31b93ae206cb",
   "metadata": {},
   "source": [
    "**Anton Sinev**"
   ]
  },
  {
   "cell_type": "markdown",
   "id": "99a11131-d128-4387-b288-f025ea3e0a61",
   "metadata": {},
   "source": [
    "I am interested in data science because I'm working in credit risk model development, and I need to know how to use various data to estimate credit risk effictively."
   ]
  },
  {
   "cell_type": "markdown",
   "id": "b410253f-7ad3-4bf2-ad21-021ea032aebd",
   "metadata": {},
   "source": [
    "### The following code calculates the first 20 Fibonacci numbers."
   ]
  },
  {
   "cell_type": "code",
   "execution_count": 5,
   "id": "18615936-717b-4081-91db-e22295295c91",
   "metadata": {},
   "outputs": [
    {
     "name": "stdout",
     "output_type": "stream",
     "text": [
      "[1, 1, 2, 3, 5, 8, 13, 21, 34, 55, 89, 144, 233, 377, 610, 987, 1597, 2584, 4181, 6765]\n"
     ]
    }
   ],
   "source": [
    "fibo = [1, 1]\n",
    "for i in range(2, 20):\n",
    "    fibo.append(fibo[i - 2] + fibo[i - 1])\n",
    "\n",
    "print(fibo)"
   ]
  },
  {
   "cell_type": "markdown",
   "id": "29ba11d1-3ffb-4fda-8bae-ad05f75f8204",
   "metadata": {},
   "source": [
    "Most likely you won't need the Fibonacci series to build a good credit risk model. You will need:\n",
    "* Accurate data;\n",
    "* Understanding of business processes;\n",
    "* Software;\n",
    "* ~~Talent~~ Skills.\n",
    "\n",
    "Here are 3 main credit risk metrics:\n",
    "1. PD - probability of default;\n",
    "2. LGD - loss given default;\n",
    "3. CCF - credit conversion factor.\n",
    "\n",
    "Here is a brief description of the risk metrics:\n",
    "\n",
    "|Metric|Range|Modelling task type|\n",
    "|------|-----|-------------------|\n",
    "|PD|0 or 1|Classification|\n",
    "|LGD|[0; 1]|Regression|\n",
    "|CCF|[0; 1]|Regression|"
   ]
  }
 ],
 "metadata": {
  "kernelspec": {
   "display_name": "Python 3 (ipykernel)",
   "language": "python",
   "name": "python3"
  },
  "language_info": {
   "codemirror_mode": {
    "name": "ipython",
    "version": 3
   },
   "file_extension": ".py",
   "mimetype": "text/x-python",
   "name": "python",
   "nbconvert_exporter": "python",
   "pygments_lexer": "ipython3",
   "version": "3.9.13"
  }
 },
 "nbformat": 4,
 "nbformat_minor": 5
}
